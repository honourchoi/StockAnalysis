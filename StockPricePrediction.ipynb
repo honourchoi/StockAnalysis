{
 "cells": [
  {
   "cell_type": "markdown",
   "metadata": {},
   "source": [
    "# Description\n",
    "This program uses an artificial recurrent nearal network called Long Short Term Memory (LSTM) to predict the closing stock price of a corporation using the past 60 day stock price."
   ]
  },
  {
   "cell_type": "code",
   "execution_count": 1,
   "metadata": {},
   "outputs": [],
   "source": [
    "import math\n",
    "import pandas as pd\n",
    "import pandas_datareader as web\n",
    "import numpy as np\n",
    "from sklearn.preprocessing import MinMaxScaler\n",
    "from keras.models import Sequential\n",
    "from keras.layers import Dense, LSTM\n",
    "import matplotlib.pyplot as plt\n",
    "plt.style.use('fivethirtyeight')"
   ]
  },
  {
   "cell_type": "code",
   "execution_count": 2,
   "metadata": {},
   "outputs": [
    {
     "data": {
      "text/html": [
       "<div>\n",
       "<style scoped>\n",
       "    .dataframe tbody tr th:only-of-type {\n",
       "        vertical-align: middle;\n",
       "    }\n",
       "\n",
       "    .dataframe tbody tr th {\n",
       "        vertical-align: top;\n",
       "    }\n",
       "\n",
       "    .dataframe thead th {\n",
       "        text-align: right;\n",
       "    }\n",
       "</style>\n",
       "<table border=\"1\" class=\"dataframe\">\n",
       "  <thead>\n",
       "    <tr style=\"text-align: right;\">\n",
       "      <th></th>\n",
       "      <th>High</th>\n",
       "      <th>Low</th>\n",
       "      <th>Open</th>\n",
       "      <th>Close</th>\n",
       "      <th>Volume</th>\n",
       "      <th>Adj Close</th>\n",
       "    </tr>\n",
       "    <tr>\n",
       "      <th>Date</th>\n",
       "      <th></th>\n",
       "      <th></th>\n",
       "      <th></th>\n",
       "      <th></th>\n",
       "      <th></th>\n",
       "      <th></th>\n",
       "    </tr>\n",
       "  </thead>\n",
       "  <tbody>\n",
       "    <tr>\n",
       "      <th>2016-04-28</th>\n",
       "      <td>57.360001</td>\n",
       "      <td>56.320000</td>\n",
       "      <td>56.590000</td>\n",
       "      <td>56.419998</td>\n",
       "      <td>9196600.0</td>\n",
       "      <td>51.246868</td>\n",
       "    </tr>\n",
       "    <tr>\n",
       "      <th>2016-04-29</th>\n",
       "      <td>56.430000</td>\n",
       "      <td>55.290001</td>\n",
       "      <td>56.020000</td>\n",
       "      <td>56.230000</td>\n",
       "      <td>12133400.0</td>\n",
       "      <td>51.074310</td>\n",
       "    </tr>\n",
       "    <tr>\n",
       "      <th>2016-05-02</th>\n",
       "      <td>57.369999</td>\n",
       "      <td>56.110001</td>\n",
       "      <td>56.290001</td>\n",
       "      <td>57.360001</td>\n",
       "      <td>8616200.0</td>\n",
       "      <td>52.100697</td>\n",
       "    </tr>\n",
       "    <tr>\n",
       "      <th>2016-05-03</th>\n",
       "      <td>57.060001</td>\n",
       "      <td>56.139999</td>\n",
       "      <td>56.700001</td>\n",
       "      <td>56.250000</td>\n",
       "      <td>7854300.0</td>\n",
       "      <td>51.271248</td>\n",
       "    </tr>\n",
       "    <tr>\n",
       "      <th>2016-05-04</th>\n",
       "      <td>56.650002</td>\n",
       "      <td>55.799999</td>\n",
       "      <td>55.980000</td>\n",
       "      <td>56.389999</td>\n",
       "      <td>6508500.0</td>\n",
       "      <td>51.398846</td>\n",
       "    </tr>\n",
       "    <tr>\n",
       "      <th>...</th>\n",
       "      <td>...</td>\n",
       "      <td>...</td>\n",
       "      <td>...</td>\n",
       "      <td>...</td>\n",
       "      <td>...</td>\n",
       "      <td>...</td>\n",
       "    </tr>\n",
       "    <tr>\n",
       "      <th>2021-04-22</th>\n",
       "      <td>116.879997</td>\n",
       "      <td>115.230003</td>\n",
       "      <td>116.870003</td>\n",
       "      <td>115.919998</td>\n",
       "      <td>5744900.0</td>\n",
       "      <td>115.919998</td>\n",
       "    </tr>\n",
       "    <tr>\n",
       "      <th>2021-04-23</th>\n",
       "      <td>117.980003</td>\n",
       "      <td>115.839996</td>\n",
       "      <td>116.019997</td>\n",
       "      <td>117.559998</td>\n",
       "      <td>4555800.0</td>\n",
       "      <td>117.559998</td>\n",
       "    </tr>\n",
       "    <tr>\n",
       "      <th>2021-04-26</th>\n",
       "      <td>117.250000</td>\n",
       "      <td>115.059998</td>\n",
       "      <td>116.949997</td>\n",
       "      <td>115.919998</td>\n",
       "      <td>5924900.0</td>\n",
       "      <td>115.919998</td>\n",
       "    </tr>\n",
       "    <tr>\n",
       "      <th>2021-04-27</th>\n",
       "      <td>116.389999</td>\n",
       "      <td>115.269997</td>\n",
       "      <td>115.669998</td>\n",
       "      <td>116.150002</td>\n",
       "      <td>7260900.0</td>\n",
       "      <td>116.150002</td>\n",
       "    </tr>\n",
       "    <tr>\n",
       "      <th>2021-04-28</th>\n",
       "      <td>114.150002</td>\n",
       "      <td>111.610001</td>\n",
       "      <td>113.440002</td>\n",
       "      <td>112.400002</td>\n",
       "      <td>14790000.0</td>\n",
       "      <td>112.400002</td>\n",
       "    </tr>\n",
       "  </tbody>\n",
       "</table>\n",
       "<p>1259 rows × 6 columns</p>\n",
       "</div>"
      ],
      "text/plain": [
       "                  High         Low        Open       Close      Volume  \\\n",
       "Date                                                                     \n",
       "2016-04-28   57.360001   56.320000   56.590000   56.419998   9196600.0   \n",
       "2016-04-29   56.430000   55.290001   56.020000   56.230000  12133400.0   \n",
       "2016-05-02   57.369999   56.110001   56.290001   57.360001   8616200.0   \n",
       "2016-05-03   57.060001   56.139999   56.700001   56.250000   7854300.0   \n",
       "2016-05-04   56.650002   55.799999   55.980000   56.389999   6508500.0   \n",
       "...                ...         ...         ...         ...         ...   \n",
       "2021-04-22  116.879997  115.230003  116.870003  115.919998   5744900.0   \n",
       "2021-04-23  117.980003  115.839996  116.019997  117.559998   4555800.0   \n",
       "2021-04-26  117.250000  115.059998  116.949997  115.919998   5924900.0   \n",
       "2021-04-27  116.389999  115.269997  115.669998  116.150002   7260900.0   \n",
       "2021-04-28  114.150002  111.610001  113.440002  112.400002  14790000.0   \n",
       "\n",
       "             Adj Close  \n",
       "Date                    \n",
       "2016-04-28   51.246868  \n",
       "2016-04-29   51.074310  \n",
       "2016-05-02   52.100697  \n",
       "2016-05-03   51.271248  \n",
       "2016-05-04   51.398846  \n",
       "...                ...  \n",
       "2021-04-22  115.919998  \n",
       "2021-04-23  117.559998  \n",
       "2021-04-26  115.919998  \n",
       "2021-04-27  116.150002  \n",
       "2021-04-28  112.400002  \n",
       "\n",
       "[1259 rows x 6 columns]"
      ]
     },
     "execution_count": 2,
     "metadata": {},
     "output_type": "execute_result"
    }
   ],
   "source": [
    "sbux = web.DataReader('SBUX', data_source='yahoo', start='2016-04-29', end='2021-04-29')\n",
    "sbux"
   ]
  },
  {
   "cell_type": "code",
   "execution_count": 3,
   "metadata": {},
   "outputs": [
    {
     "data": {
      "text/plain": [
       "(1259, 6)"
      ]
     },
     "execution_count": 3,
     "metadata": {},
     "output_type": "execute_result"
    }
   ],
   "source": [
    "sbux.shape"
   ]
  },
  {
   "cell_type": "code",
   "execution_count": 4,
   "metadata": {},
   "outputs": [
    {
     "data": {
      "image/png": "[encoded data removed]",
      "text/plain": [
       "<Figure size 936x504 with 1 Axes>"
      ]
     },
     "metadata": {},
     "output_type": "display_data"
    }
   ],
   "source": [
    "plt.figure(figsize=(13, 7))\n",
    "plt.title('Close Price History')\n",
    "plt.plot(sbux['Close'])\n",
    "plt.xlabel('Date', fontsize=18)\n",
    "plt.ylabel('Close Price USD ($)', fontsize=18)\n",
    "plt.show()"
   ]
  },
  {
   "cell_type": "code",
   "execution_count": 5,
   "metadata": {},
   "outputs": [
    {
     "data": {
      "text/plain": [
       "1008"
      ]
     },
     "execution_count": 5,
     "metadata": {},
     "output_type": "execute_result"
    }
   ],
   "source": [
    "# Create a new dataframe with only the 'Close' column\n",
    "sbux_close = sbux.filter(['Close'])\n",
    "# Convert the dataframe to a numpy array\n",
    "sbux_close_dataset = sbux_close.values\n",
    "# Get the number of rows to train the model on\n",
    "sbux_train_data_len = math.ceil(len(sbux_close_dataset) * .8)\n",
    "\n",
    "sbux_train_data_len"
   ]
  },
  {
   "cell_type": "code",
   "execution_count": 6,
   "metadata": {},
   "outputs": [
    {
     "data": {
      "text/plain": [
       "array([[0.11289395],\n",
       "       [0.11017191],\n",
       "       [0.12636104],\n",
       "       ...,\n",
       "       [0.96532954],\n",
       "       [0.96862471],\n",
       "       [0.91489978]])"
      ]
     },
     "execution_count": 6,
     "metadata": {},
     "output_type": "execute_result"
    }
   ],
   "source": [
    "# Scale the data\n",
    "scaler = MinMaxScaler(feature_range=(0, 1))\n",
    "sbux_scaled_data = scaler.fit_transform(sbux_close_dataset)\n",
    "\n",
    "sbux_scaled_data"
   ]
  },
  {
   "cell_type": "code",
   "execution_count": 7,
   "metadata": {},
   "outputs": [
    {
     "name": "stdout",
     "output_type": "stream",
     "text": [
      "[array([0.11289395, 0.11017191, 0.12636104, 0.11045845, 0.11246417,\n",
      "       0.11045845, 0.11131807, 0.11604583, 0.12822352, 0.11017191,\n",
      "       0.11117477, 0.10429798, 0.10014324, 0.09083095, 0.0896848 ,\n",
      "       0.08610313, 0.08710599, 0.08681945, 0.09885384, 0.09469916,\n",
      "       0.09670488, 0.09469916, 0.0909742 , 0.08997134, 0.08710599,\n",
      "       0.08696275, 0.10100286, 0.09684812, 0.09570202, 0.10085962,\n",
      "       0.09068766, 0.09312322, 0.10071632, 0.09756444, 0.10014324,\n",
      "       0.09699142, 0.09799428, 0.10415474, 0.1012894 , 0.10873926,\n",
      "       0.08796561, 0.07378221, 0.09040112, 0.11747853, 0.12292262,\n",
      "       0.12106019, 0.11790831, 0.11762177, 0.11991403, 0.11418335,\n",
      "       0.11146131, 0.12808022, 0.11375357, 0.12965616, 0.12707736,\n",
      "       0.12005728, 0.11776501, 0.12893984, 0.1297994 , 0.13409744])]\n",
      "[0.13481376023697034]\n",
      "\n",
      "[array([0.11289395, 0.11017191, 0.12636104, 0.11045845, 0.11246417,\n",
      "       0.11045845, 0.11131807, 0.11604583, 0.12822352, 0.11017191,\n",
      "       0.11117477, 0.10429798, 0.10014324, 0.09083095, 0.0896848 ,\n",
      "       0.08610313, 0.08710599, 0.08681945, 0.09885384, 0.09469916,\n",
      "       0.09670488, 0.09469916, 0.0909742 , 0.08997134, 0.08710599,\n",
      "       0.08696275, 0.10100286, 0.09684812, 0.09570202, 0.10085962,\n",
      "       0.09068766, 0.09312322, 0.10071632, 0.09756444, 0.10014324,\n",
      "       0.09699142, 0.09799428, 0.10415474, 0.1012894 , 0.10873926,\n",
      "       0.08796561, 0.07378221, 0.09040112, 0.11747853, 0.12292262,\n",
      "       0.12106019, 0.11790831, 0.11762177, 0.11991403, 0.11418335,\n",
      "       0.11146131, 0.12808022, 0.11375357, 0.12965616, 0.12707736,\n",
      "       0.12005728, 0.11776501, 0.12893984, 0.1297994 , 0.13409744]), array([0.11017191, 0.12636104, 0.11045845, 0.11246417, 0.11045845,\n",
      "       0.11131807, 0.11604583, 0.12822352, 0.11017191, 0.11117477,\n",
      "       0.10429798, 0.10014324, 0.09083095, 0.0896848 , 0.08610313,\n",
      "       0.08710599, 0.08681945, 0.09885384, 0.09469916, 0.09670488,\n",
      "       0.09469916, 0.0909742 , 0.08997134, 0.08710599, 0.08696275,\n",
      "       0.10100286, 0.09684812, 0.09570202, 0.10085962, 0.09068766,\n",
      "       0.09312322, 0.10071632, 0.09756444, 0.10014324, 0.09699142,\n",
      "       0.09799428, 0.10415474, 0.1012894 , 0.10873926, 0.08796561,\n",
      "       0.07378221, 0.09040112, 0.11747853, 0.12292262, 0.12106019,\n",
      "       0.11790831, 0.11762177, 0.11991403, 0.11418335, 0.11146131,\n",
      "       0.12808022, 0.11375357, 0.12965616, 0.12707736, 0.12005728,\n",
      "       0.11776501, 0.12893984, 0.1297994 , 0.13409744, 0.13481376])]\n",
      "[0.13481376023697034, 0.13997136244271802]\n",
      "\n"
     ]
    }
   ],
   "source": [
    "# Create the training data set\n",
    "# Create the scaled training data set\n",
    "sbux_train_data = sbux_scaled_data[0:sbux_train_data_len, :]\n",
    "# Split the data into x_train and y_train data sets\n",
    "sbux_x_train = []\n",
    "sbux_y_train = []\n",
    "\n",
    "for i in range(60, len(sbux_train_data)):\n",
    "    sbux_x_train.append(sbux_train_data[i-60:i, 0])\n",
    "    sbux_y_train.append(sbux_train_data[i, 0])\n",
    "    if i <= 61:\n",
    "        print(sbux_x_train)\n",
    "        print(sbux_y_train)\n",
    "        print()"
   ]
  },
  {
   "cell_type": "code",
   "execution_count": 8,
   "metadata": {},
   "outputs": [
    {
     "data": {
      "text/plain": [
       "(948, 60, 1)"
      ]
     },
     "execution_count": 8,
     "metadata": {},
     "output_type": "execute_result"
    }
   ],
   "source": [
    "# Convert the x_train and y_train to numpy arrays\n",
    "sbux_x_train, sbux_y_train = np.array(sbux_x_train), np.array(sbux_y_train)\n",
    "\n",
    "# Reshape the data\n",
    "sbux_x_train = np.reshape(sbux_x_train, (sbux_x_train.shape[0], sbux_x_train.shape[1], 1))\n",
    "sbux_x_train.shape"
   ]
  },
  {
   "cell_type": "code",
   "execution_count": 9,
   "metadata": {},
   "outputs": [],
   "source": [
    "# Build the LSTM model\n",
    "sbux_model = Sequential()\n",
    "sbux_model.add(LSTM(50, return_sequences = True, input_shape = (sbux_x_train.shape[1], 1)))\n",
    "sbux_model.add(LSTM(50, return_sequences = False))\n",
    "sbux_model.add(Dense(25))\n",
    "sbux_model.add(Dense(1))"
   ]
  },
  {
   "cell_type": "code",
   "execution_count": 10,
   "metadata": {},
   "outputs": [],
   "source": [
    "# Compile the model\n",
    "sbux_model.compile(optimizer='adam', loss='mean_squared_error')"
   ]
  },
  {
   "cell_type": "code",
   "execution_count": 11,
   "metadata": {},
   "outputs": [
    {
     "name": "stdout",
     "output_type": "stream",
     "text": [
      "948/948 [==============================] - 14s 13ms/step - loss: 0.0063\n"
     ]
    },
    {
     "data": {
      "text/plain": [
       "<tensorflow.python.keras.callbacks.History at 0x2bef6dbc8b0>"
      ]
     },
     "execution_count": 11,
     "metadata": {},
     "output_type": "execute_result"
    }
   ],
   "source": [
    "# Train the model\n",
    "sbux_model.fit(sbux_x_train, sbux_y_train, batch_size=1, epochs=1)"
   ]
  },
  {
   "cell_type": "code",
   "execution_count": 12,
   "metadata": {},
   "outputs": [],
   "source": [
    "# Create the testing data set\n",
    "# Create a new array containing scaled values from index 948 to 1008\n",
    "sbux_test_data = sbux_scaled_data[sbux_train_data_len - 60:, :]\n",
    "# Create the data sets x_test and y_test\n",
    "sbux_x_test = []\n",
    "sbux_y_test = sbux_close_dataset[sbux_train_data_len:, :]\n",
    "\n",
    "for i in range(60, len(sbux_test_data)):\n",
    "    sbux_x_test.append(sbux_test_data[i-60:i, 0])"
   ]
  },
  {
   "cell_type": "code",
   "execution_count": 13,
   "metadata": {},
   "outputs": [],
   "source": [
    "# Convert the data to a numpy array\n",
    "sbux_x_test = np.array(sbux_x_test)"
   ]
  },
  {
   "cell_type": "code",
   "execution_count": 14,
   "metadata": {},
   "outputs": [],
   "source": [
    "# Reshape the data\n",
    "sbux_x_test = np.reshape(sbux_x_test, (sbux_x_test.shape[0], sbux_x_test.shape[1], 1))"
   ]
  },
  {
   "cell_type": "code",
   "execution_count": 15,
   "metadata": {},
   "outputs": [],
   "source": [
    "# Get the models predicted price values\n",
    "sbux_predictions = sbux_model.predict(sbux_x_test)\n",
    "sbux_predictions = scaler.inverse_transform(sbux_predictions)"
   ]
  },
  {
   "cell_type": "code",
   "execution_count": 16,
   "metadata": {},
   "outputs": [
    {
     "data": {
      "text/plain": [
       "0.22003705758022596"
      ]
     },
     "execution_count": 16,
     "metadata": {},
     "output_type": "execute_result"
    }
   ],
   "source": [
    "# Get the root mean squared error (RMSE)\n",
    "sbux_rmse = np.sqrt(np.mean(sbux_predictions - sbux_y_test) ** 2)\n",
    "sbux_rmse"
   ]
  },
  {
   "cell_type": "code",
   "execution_count": 17,
   "metadata": {},
   "outputs": [],
   "source": [
    "# Plot the data\n",
    "sbux_train = sbux_close[:sbux_train_data_len].copy()\n",
    "sbux_valid = sbux_close[sbux_train_data_len:].copy()\n",
    "sbux_valid.loc[:, 'Predictions'] = sbux_predictions"
   ]
  },
  {
   "cell_type": "code",
   "execution_count": 18,
   "metadata": {},
   "outputs": [
    {
     "data": {
      "image/png": "[encoded data removed]",
      "text/plain": [
       "<Figure size 936x504 with 1 Axes>"
      ]
     },
     "metadata": {},
     "output_type": "display_data"
    }
   ],
   "source": [
    "#Visualize the data\n",
    "plt.figure(figsize=(13, 7))\n",
    "plt.title('Starbucks')\n",
    "plt.xlabel('Date', fontsize=18)\n",
    "plt.ylabel('Close Price USE ($)', fontsize=18)\n",
    "plt.plot(sbux_train['Close'])\n",
    "plt.plot(sbux_valid[['Close', 'Predictions']])\n",
    "plt.legend(['Train', 'Val', 'Predictions'], loc='upper left')\n",
    "plt.show()"
   ]
  },
  {
   "cell_type": "code",
   "execution_count": 19,
   "metadata": {},
   "outputs": [
    {
     "data": {
      "text/html": [
       "<div>\n",
       "<style scoped>\n",
       "    .dataframe tbody tr th:only-of-type {\n",
       "        vertical-align: middle;\n",
       "    }\n",
       "\n",
       "    .dataframe tbody tr th {\n",
       "        vertical-align: top;\n",
       "    }\n",
       "\n",
       "    .dataframe thead th {\n",
       "        text-align: right;\n",
       "    }\n",
       "</style>\n",
       "<table border=\"1\" class=\"dataframe\">\n",
       "  <thead>\n",
       "    <tr style=\"text-align: right;\">\n",
       "      <th></th>\n",
       "      <th>Close</th>\n",
       "      <th>Predictions</th>\n",
       "    </tr>\n",
       "    <tr>\n",
       "      <th>Date</th>\n",
       "      <th></th>\n",
       "      <th></th>\n",
       "    </tr>\n",
       "  </thead>\n",
       "  <tbody>\n",
       "    <tr>\n",
       "      <th>2020-04-30</th>\n",
       "      <td>76.730003</td>\n",
       "      <td>77.366043</td>\n",
       "    </tr>\n",
       "    <tr>\n",
       "      <th>2020-05-01</th>\n",
       "      <td>73.790001</td>\n",
       "      <td>77.555458</td>\n",
       "    </tr>\n",
       "    <tr>\n",
       "      <th>2020-05-04</th>\n",
       "      <td>71.889999</td>\n",
       "      <td>77.261818</td>\n",
       "    </tr>\n",
       "    <tr>\n",
       "      <th>2020-05-05</th>\n",
       "      <td>72.900002</td>\n",
       "      <td>76.531845</td>\n",
       "    </tr>\n",
       "    <tr>\n",
       "      <th>2020-05-06</th>\n",
       "      <td>72.959999</td>\n",
       "      <td>75.803185</td>\n",
       "    </tr>\n",
       "    <tr>\n",
       "      <th>...</th>\n",
       "      <td>...</td>\n",
       "      <td>...</td>\n",
       "    </tr>\n",
       "    <tr>\n",
       "      <th>2021-04-22</th>\n",
       "      <td>115.919998</td>\n",
       "      <td>116.199341</td>\n",
       "    </tr>\n",
       "    <tr>\n",
       "      <th>2021-04-23</th>\n",
       "      <td>117.559998</td>\n",
       "      <td>116.184814</td>\n",
       "    </tr>\n",
       "    <tr>\n",
       "      <th>2021-04-26</th>\n",
       "      <td>115.919998</td>\n",
       "      <td>116.296448</td>\n",
       "    </tr>\n",
       "    <tr>\n",
       "      <th>2021-04-27</th>\n",
       "      <td>116.150002</td>\n",
       "      <td>116.205864</td>\n",
       "    </tr>\n",
       "    <tr>\n",
       "      <th>2021-04-28</th>\n",
       "      <td>112.400002</td>\n",
       "      <td>116.074333</td>\n",
       "    </tr>\n",
       "  </tbody>\n",
       "</table>\n",
       "<p>251 rows × 2 columns</p>\n",
       "</div>"
      ],
      "text/plain": [
       "                 Close  Predictions\n",
       "Date                               \n",
       "2020-04-30   76.730003    77.366043\n",
       "2020-05-01   73.790001    77.555458\n",
       "2020-05-04   71.889999    77.261818\n",
       "2020-05-05   72.900002    76.531845\n",
       "2020-05-06   72.959999    75.803185\n",
       "...                ...          ...\n",
       "2021-04-22  115.919998   116.199341\n",
       "2021-04-23  117.559998   116.184814\n",
       "2021-04-26  115.919998   116.296448\n",
       "2021-04-27  116.150002   116.205864\n",
       "2021-04-28  112.400002   116.074333\n",
       "\n",
       "[251 rows x 2 columns]"
      ]
     },
     "execution_count": 19,
     "metadata": {},
     "output_type": "execute_result"
    }
   ],
   "source": [
    "# Show the valid and predicted prices\n",
    "sbux_valid"
   ]
  },
  {
   "cell_type": "code",
   "execution_count": 20,
   "metadata": {},
   "outputs": [
    {
     "name": "stdout",
     "output_type": "stream",
     "text": [
      "[[115.4149]]\n"
     ]
    }
   ],
   "source": [
    "# Get the quote\n",
    "new_sbux = web.DataReader('SBUX', data_source='yahoo', start='2016-04-29', end='2021-04-29')\n",
    "\n",
    "# Create a new dataframe\n",
    "new_sbux_close = new_sbux.filter(['Close'])\n",
    "\n",
    "# Get the last 60 days closing price values and convert the dataframe to an array\n",
    "new_sbux_last_60_days = new_sbux_close[-60:].values\n",
    "\n",
    "# Scale the data to be values between 0\n",
    "new_sbux_last_60_days_scaled = scaler.transform(new_sbux_last_60_days)\n",
    "\n",
    "# Create an empty list\n",
    "new_sbux_x_test = []\n",
    "\n",
    "# Append the last 60 days\n",
    "new_sbux_x_test.append(new_sbux_last_60_days_scaled)\n",
    "\n",
    "# Convert the x_test data set to a numpy array\n",
    "new_sbux_x_test = np.array(new_sbux_x_test)\n",
    "\n",
    "# Reshape the data\n",
    "new_sbux_x_test = np.reshape(new_sbux_x_test, (new_sbux_x_test.shape[0], new_sbux_x_test.shape[1], 1))\n",
    "\n",
    "# Get the predicted scaled price\n",
    "new_sbux_pred_price = sbux_model.predict(new_sbux_x_test)\n",
    "\n",
    "#undo the scaling\n",
    "new_sbux_pred_price = scaler.inverse_transform(new_sbux_pred_price)\n",
    "print(new_sbux_pred_price)"
   ]
  }
 ],
 "metadata": {
  "kernelspec": {
   "display_name": "Python 3",
   "language": "python",
   "name": "python3"
  },
  "language_info": {
   "codemirror_mode": {
    "name": "ipython",
    "version": 3
   },
   "file_extension": ".py",
   "mimetype": "text/x-python",
   "name": "python",
   "nbconvert_exporter": "python",
   "pygments_lexer": "ipython3",
   "version": "3.8.3"
  }
 },
 "nbformat": 4,
 "nbformat_minor": 4
}
